{
 "cells": [
  {
   "cell_type": "markdown",
   "id": "50e82d79",
   "metadata": {},
   "source": [
    "# TEDA (Typicality & Eccentricity Data Analysis) — Bootcamp Notebook\n",
    "\n",
    "Neste notebook contém um passo a passo para aplicar o **TEDA** em séries temporais de energia annotadas (LEAD 1.0). \n",
    "\n",
    "Vamos abordar os seguintes tópicos:\n",
    "1) carregamento e preparação dos dados;  \n",
    "2) execução do TEDA (offline) com diferentes sensibilidades;  \n",
    "3) comparação com rótulos de anomalia;  \n",
    "4) visualizações (série temporal + sensibilidade ao parâmetro *m* + matriz de confusão).\n",
    "\n",
    "> **Dica**: Execute as células na ordem. Os gráficos e CSVs são salvos no diretório atual."
   ]
  },
  {
   "cell_type": "markdown",
   "id": "59cd689d",
   "metadata": {},
   "source": [
    "## ⚙️ Requisitos\n",
    "\n",
    "- Python 3.x  \n",
    "- Bibliotecas: `pandas`, `numpy`, `matplotlib`, `scikit-learn`  \n",
    "- Arquivos na mesma pasta do notebook:  \n",
    "  - `lead1.0-small.csv`  \n",
    "  - `teda.py` (contendo a classe `TEDA(threshold)` com `.run_offline(df, features)`)\n",
    "\n",
    "> Se estiver em um ambiente novo, instale dependências:  \n",
    "> `pip install pandas numpy matplotlib scikit-learn`"
   ]
  },
  {
   "cell_type": "markdown",
   "id": "1a6db9d5",
   "metadata": {},
   "source": [
    "## 🔧 Parâmetros (edite aqui)\n",
    "\n",
    "Escolha **prédio**, **janela temporal** e a **sensibilidade** do TEDA.  \n",
    "Para a aula, você pode começar com um dos prédios/janelas sugeridos e variar `M_DEFAULT` e a lista `MS`.\n",
    "\n",
    "> Quanto maior o `M_DEFAULT`, menos anomalias serão detectadas."
   ]
  },
  {
   "cell_type": "code",
   "execution_count": null,
   "id": "c94a9b3d",
   "metadata": {},
   "outputs": [
    {
     "name": "stdout",
     "output_type": "stream",
     "text": [
      "Config: building=263, window=(2016-01-16 00:00:00 → 2016-01-18 23:59:59), m0=0.15, sweep=[0.05, 0.1, 0.15, 0.2, 0.25]\n"
     ]
    }
   ],
   "source": [
    "\n",
    "import pandas as pd\n",
    "import numpy as np\n",
    "import matplotlib.pyplot as plt\n",
    "from sklearn.metrics import precision_recall_fscore_support, confusion_matrix\n",
    "from sklearn.metrics import ConfusionMatrixDisplay\n",
    "\n",
    "# Parâmetros principais\n",
    "BUILDING_ID = 263\n",
    "START = \"2016-01-16 00:00:00\"\n",
    "END   = \"2016-01-18 23:59:59\"\n",
    "\n",
    "# Sensibilidade do TEDA\n",
    "M_DEFAULT = 0.15\n",
    "MS = [0.05, 0.10, 0.15, 0.20, 0.25]\n",
    "\n",
    "# Arquivos\n",
    "DATA_PATH = \"./lead1.0-small.csv\"\n",
    "\n",
    "print(f\"Config: building={BUILDING_ID}, window=({START} → {END}), m0={M_DEFAULT}, sweep={MS}\")\n"
   ]
  },
  {
   "cell_type": "markdown",
   "id": "155f013b",
   "metadata": {},
   "source": [
    "## 📥 Carregar dados e filtrar janela\n",
    "- Convertemos `timestamp` para `datetime`.\n",
    "- Filtramos pelo `BUILDING_ID` e pela janela `[START, END]`."
   ]
  },
  {
   "cell_type": "code",
   "execution_count": 8,
   "id": "c41a70b7",
   "metadata": {},
   "outputs": [
    {
     "name": "stdout",
     "output_type": "stream",
     "text": [
      "       building_id           timestamp  meter_reading  anomaly\n",
      "71531          263 2016-01-16 00:00:00          56.44        1\n",
      "71731          263 2016-01-16 01:00:00          56.32        1\n",
      "71930          263 2016-01-16 02:00:00          57.08        1\n",
      "72130          263 2016-01-16 03:00:00          55.82        1\n",
      "72330          263 2016-01-16 04:00:00          53.69        1\n",
      "Shape: (72, 4)\n"
     ]
    }
   ],
   "source": [
    "\n",
    "# 1) Carregar dados\n",
    "df = pd.read_csv(DATA_PATH)\n",
    "df[\"timestamp\"] = pd.to_datetime(df[\"timestamp\"])\n",
    "\n",
    "# Filtrar prédio e janela\n",
    "mask = (\n",
    "    (df[\"building_id\"] == BUILDING_ID) &\n",
    "    (df[\"timestamp\"] >= pd.to_datetime(START)) &\n",
    "    (df[\"timestamp\"] <= pd.to_datetime(END))\n",
    ")\n",
    "df1 = df.loc[mask].copy()\n",
    "\n",
    "print(df1.head())\n",
    "print(\"Shape:\", df1.shape)\n"
   ]
  },
  {
   "cell_type": "markdown",
   "id": "07adc217",
   "metadata": {},
   "source": [
    "## 🧠 Importar o TEDA\n",
    "O arquivo `teda.py` deve estar no mesmo diretório. Ele precisa expor a classe `TEDA(threshold)` com o método `run_offline(df, features)`."
   ]
  },
  {
   "cell_type": "code",
   "execution_count": 9,
   "id": "13790014",
   "metadata": {},
   "outputs": [],
   "source": [
    "\n",
    "# 3) Importar TEDA\n",
    "import teda\n",
    "\n",
    "# Função utilitária para aplicar o TEDA\n",
    "def apply_teda(g: pd.DataFrame, m: float) -> pd.DataFrame:\n",
    "    g = g.sort_values(\"timestamp\").reset_index(drop=True)\n",
    "    work = g[[\"meter_reading\"]].copy()\n",
    "    model = teda.TEDA(threshold=m)\n",
    "    model.run_offline(work, features=[\"meter_reading\"])  # adiciona coluna 'is_outlier'\n",
    "    g = g.copy()\n",
    "    g[\"teda_outlier\"] = work[\"is_outlier\"].astype(int).values\n",
    "    return g\n"
   ]
  },
  {
   "cell_type": "markdown",
   "id": "662d0e16",
   "metadata": {},
   "source": [
    "## ▶️ Rodar TEDA (m = `M_DEFAULT`)\n",
    "Calculamos também as métricas contra o rótulo `anomaly`."
   ]
  },
  {
   "cell_type": "code",
   "execution_count": 10,
   "id": "bf54f526",
   "metadata": {},
   "outputs": [
    {
     "name": "stdout",
     "output_type": "stream",
     "text": [
      "[Prédio 263 | 2016-01-16 00:00:00 → 2016-01-18 23:59:59 | m=0.15]\n",
      "Precisão=1.000  Revocação=0.944  F1=0.971\n"
     ]
    }
   ],
   "source": [
    "\n",
    "# 4) Rodar TEDA (m = M_DEFAULT)\n",
    "res = apply_teda(df1, m=M_DEFAULT)\n",
    "\n",
    "# 5) Métricas\n",
    "y_true = res[\"anomaly\"].astype(int).values\n",
    "y_pred = res[\"teda_outlier\"].astype(int).values\n",
    "prec, rec, f1, _ = precision_recall_fscore_support(y_true, y_pred, average=\"binary\", zero_division=0)\n",
    "cm = confusion_matrix(y_true, y_pred)\n",
    "\n",
    "print(f\"[Prédio {BUILDING_ID} | {START} → {END} | m={M_DEFAULT}]\")\n",
    "print(f\"Precisão={prec:.3f}  Revocação={rec:.3f}  F1={f1:.3f}\")\n"
   ]
  },
  {
   "cell_type": "markdown",
   "id": "b472cd85",
   "metadata": {},
   "source": [
    "## 🧩 Matriz de confusão (m = `M_DEFAULT`)\n",
    "Ajuda a interpretar o trade-off entre falsos positivos e falsos negativos."
   ]
  },
  {
   "cell_type": "code",
   "execution_count": 11,
   "id": "76500bfa",
   "metadata": {},
   "outputs": [
    {
     "data": {
      "image/png": "[encoded data removed]",
      "text/plain": [
       "<Figure size 640x480 with 2 Axes>"
      ]
     },
     "metadata": {},
     "output_type": "display_data"
    }
   ],
   "source": [
    "# plotar matriz de confusão\n",
    "disp = ConfusionMatrixDisplay(confusion_matrix=cm,\n",
    "                              display_labels=[\"Normal\", \"Anômalo\"])\n",
    "disp.plot(values_format=\"d\", cmap=\"Blues\", colorbar=True)\n",
    "plt.title(\"Matriz de Confusão\")\n",
    "plt.grid(False)\n",
    "plt.show()"
   ]
  },
  {
   "cell_type": "markdown",
   "id": "9e903e74",
   "metadata": {},
   "source": [
    "## 📈 Série temporal com rótulos e detecções do TEDA\n",
    "Marcamos os rótulos (`anomaly=1`) e as detecções do TEDA."
   ]
  },
  {
   "cell_type": "code",
   "execution_count": 12,
   "id": "63d78f7c",
   "metadata": {},
   "outputs": [
    {
     "data": {
      "text/plain": [
       "<function matplotlib.pyplot.show(close=None, block=None)>"
      ]
     },
     "execution_count": 12,
     "metadata": {},
     "output_type": "execute_result"
    },
    {
     "data": {
      "image/png": "[encoded data removed]",
      "text/plain": [
       "<Figure size 1100x400 with 1 Axes>"
      ]
     },
     "metadata": {},
     "output_type": "display_data"
    }
   ],
   "source": [
    "\n",
    "# 6) Série temporal\n",
    "plt.figure(figsize=(11,4))\n",
    "plt.plot(res[\"timestamp\"], res[\"meter_reading\"], label=\"Leitura\")\n",
    "plt.scatter(res.loc[res[\"anomaly\"]==1, \"timestamp\"], res.loc[res[\"anomaly\"]==1, \"meter_reading\"],\n",
    "            marker=\"x\", s=20, label=\"Anomalia (rótulo)\", zorder=3)\n",
    "plt.scatter(res.loc[res[\"teda_outlier\"]==1, \"timestamp\"], res.loc[res[\"teda_outlier\"]==1, \"meter_reading\"],\n",
    "            facecolors=\"none\", edgecolors=\"k\", s=20, label=f\"TEDA (m={M_DEFAULT})\")\n",
    "plt.title(f\"Prédio {BUILDING_ID} — {START[:10]} a {END[:10]}\")\n",
    "plt.xlabel(\"Tempo\"); plt.ylabel(\"Consumo\")\n",
    "plt.legend(); plt.tight_layout()\n",
    "# plt.savefig(f\"./serie_{BUILDING_ID}.png\", dpi=180); plt.close()\n",
    "# print(\"Figura salva:\", f\"./serie_{BUILDING_ID}.png\")\n",
    "plt.show"
   ]
  },
  {
   "cell_type": "code",
   "execution_count": 13,
   "id": "821341bb",
   "metadata": {},
   "outputs": [
    {
     "ename": "KeyboardInterrupt",
     "evalue": "",
     "output_type": "error",
     "traceback": [
      "\u001b[31m---------------------------------------------------------------------------\u001b[39m",
      "\u001b[31mKeyboardInterrupt\u001b[39m                         Traceback (most recent call last)",
      "\u001b[36mCell\u001b[39m\u001b[36m \u001b[39m\u001b[32mIn[13]\u001b[39m\u001b[32m, line 4\u001b[39m\n\u001b[32m      2\u001b[39m rows = []\n\u001b[32m      3\u001b[39m \u001b[38;5;28;01mfor\u001b[39;00m m \u001b[38;5;129;01min\u001b[39;00m MS:\n\u001b[32m----> \u001b[39m\u001b[32m4\u001b[39m     tmp = \u001b[43mapply_teda\u001b[49m\u001b[43m(\u001b[49m\u001b[43mdf\u001b[49m\u001b[43m,\u001b[49m\u001b[43m \u001b[49m\u001b[43mm\u001b[49m\u001b[43m=\u001b[49m\u001b[43mm\u001b[49m\u001b[43m)\u001b[49m\n\u001b[32m      5\u001b[39m     p_i, r_i, f1_i, _ = precision_recall_fscore_support(\n\u001b[32m      6\u001b[39m         tmp[\u001b[33m\"\u001b[39m\u001b[33manomaly\u001b[39m\u001b[33m\"\u001b[39m].astype(\u001b[38;5;28mint\u001b[39m).values,\n\u001b[32m      7\u001b[39m         tmp[\u001b[33m\"\u001b[39m\u001b[33mteda_outlier\u001b[39m\u001b[33m\"\u001b[39m].astype(\u001b[38;5;28mint\u001b[39m).values,\n\u001b[32m      8\u001b[39m         average=\u001b[33m\"\u001b[39m\u001b[33mbinary\u001b[39m\u001b[33m\"\u001b[39m, zero_division=\u001b[32m0\u001b[39m\n\u001b[32m      9\u001b[39m     )\n\u001b[32m     10\u001b[39m     rows.append((m, p_i, r_i, f1_i))\n",
      "\u001b[36mCell\u001b[39m\u001b[36m \u001b[39m\u001b[32mIn[9]\u001b[39m\u001b[32m, line 9\u001b[39m, in \u001b[36mapply_teda\u001b[39m\u001b[34m(g, m)\u001b[39m\n\u001b[32m      7\u001b[39m work = g[[\u001b[33m\"\u001b[39m\u001b[33mmeter_reading\u001b[39m\u001b[33m\"\u001b[39m]].copy()\n\u001b[32m      8\u001b[39m model = teda.TEDA(threshold=m)\n\u001b[32m----> \u001b[39m\u001b[32m9\u001b[39m \u001b[43mmodel\u001b[49m\u001b[43m.\u001b[49m\u001b[43mrun_offline\u001b[49m\u001b[43m(\u001b[49m\u001b[43mwork\u001b[49m\u001b[43m,\u001b[49m\u001b[43m \u001b[49m\u001b[43mfeatures\u001b[49m\u001b[43m=\u001b[49m\u001b[43m[\u001b[49m\u001b[33;43m\"\u001b[39;49m\u001b[33;43mmeter_reading\u001b[39;49m\u001b[33;43m\"\u001b[39;49m\u001b[43m]\u001b[49m\u001b[43m)\u001b[49m  \u001b[38;5;66;03m# adiciona coluna 'is_outlier'\u001b[39;00m\n\u001b[32m     10\u001b[39m g = g.copy()\n\u001b[32m     11\u001b[39m g[\u001b[33m\"\u001b[39m\u001b[33mteda_outlier\u001b[39m\u001b[33m\"\u001b[39m] = work[\u001b[33m\"\u001b[39m\u001b[33mis_outlier\u001b[39m\u001b[33m\"\u001b[39m].astype(\u001b[38;5;28mint\u001b[39m).values\n",
      "\u001b[36mFile \u001b[39m\u001b[32m~/Developer/bootcamp_teda/teda.py:49\u001b[39m, in \u001b[36mTEDA.run_offline\u001b[39m\u001b[34m(self, df, features)\u001b[39m\n\u001b[32m     46\u001b[39m \u001b[38;5;66;03m# loop through the rows in df\u001b[39;00m\n\u001b[32m     47\u001b[39m \u001b[38;5;28;01mfor\u001b[39;00m index, row \u001b[38;5;129;01min\u001b[39;00m df.iterrows():\n\u001b[32m     48\u001b[39m     \u001b[38;5;66;03m# build the X sample numpy array\u001b[39;00m\n\u001b[32m---> \u001b[39m\u001b[32m49\u001b[39m     x = np.array(\u001b[43mrow\u001b[49m\u001b[43m[\u001b[49m\u001b[43mfeatures\u001b[49m\u001b[43m]\u001b[49m)\n\u001b[32m     51\u001b[39m     \u001b[38;5;66;03m# update the model metrics\u001b[39;00m\n\u001b[32m     52\u001b[39m     \u001b[38;5;28;01mif\u001b[39;00m(\u001b[38;5;28mself\u001b[39m.k == \u001b[32m1\u001b[39m):\n",
      "\u001b[36mFile \u001b[39m\u001b[32m~/miniconda3/lib/python3.12/site-packages/pandas/core/series.py:1153\u001b[39m, in \u001b[36mSeries.__getitem__\u001b[39m\u001b[34m(self, key)\u001b[39m\n\u001b[32m   1150\u001b[39m     key = np.asarray(key, dtype=\u001b[38;5;28mbool\u001b[39m)\n\u001b[32m   1151\u001b[39m     \u001b[38;5;28;01mreturn\u001b[39;00m \u001b[38;5;28mself\u001b[39m._get_rows_with_mask(key)\n\u001b[32m-> \u001b[39m\u001b[32m1153\u001b[39m \u001b[38;5;28;01mreturn\u001b[39;00m \u001b[38;5;28;43mself\u001b[39;49m\u001b[43m.\u001b[49m\u001b[43m_get_with\u001b[49m\u001b[43m(\u001b[49m\u001b[43mkey\u001b[49m\u001b[43m)\u001b[49m\n",
      "\u001b[36mFile \u001b[39m\u001b[32m~/miniconda3/lib/python3.12/site-packages/pandas/core/series.py:1194\u001b[39m, in \u001b[36mSeries._get_with\u001b[39m\u001b[34m(self, key)\u001b[39m\n\u001b[32m   1191\u001b[39m         \u001b[38;5;28;01mreturn\u001b[39;00m \u001b[38;5;28mself\u001b[39m.iloc[key]\n\u001b[32m   1193\u001b[39m \u001b[38;5;66;03m# handle the dup indexing case GH#4246\u001b[39;00m\n\u001b[32m-> \u001b[39m\u001b[32m1194\u001b[39m \u001b[38;5;28;01mreturn\u001b[39;00m \u001b[38;5;28;43mself\u001b[39;49m\u001b[43m.\u001b[49m\u001b[43mloc\u001b[49m\u001b[43m[\u001b[49m\u001b[43mkey\u001b[49m\u001b[43m]\u001b[49m\n",
      "\u001b[36mFile \u001b[39m\u001b[32m~/miniconda3/lib/python3.12/site-packages/pandas/core/indexing.py:1191\u001b[39m, in \u001b[36m_LocationIndexer.__getitem__\u001b[39m\u001b[34m(self, key)\u001b[39m\n\u001b[32m   1189\u001b[39m maybe_callable = com.apply_if_callable(key, \u001b[38;5;28mself\u001b[39m.obj)\n\u001b[32m   1190\u001b[39m maybe_callable = \u001b[38;5;28mself\u001b[39m._check_deprecated_callable_usage(key, maybe_callable)\n\u001b[32m-> \u001b[39m\u001b[32m1191\u001b[39m \u001b[38;5;28;01mreturn\u001b[39;00m \u001b[38;5;28;43mself\u001b[39;49m\u001b[43m.\u001b[49m\u001b[43m_getitem_axis\u001b[49m\u001b[43m(\u001b[49m\u001b[43mmaybe_callable\u001b[49m\u001b[43m,\u001b[49m\u001b[43m \u001b[49m\u001b[43maxis\u001b[49m\u001b[43m=\u001b[49m\u001b[43maxis\u001b[49m\u001b[43m)\u001b[49m\n",
      "\u001b[36mFile \u001b[39m\u001b[32m~/miniconda3/lib/python3.12/site-packages/pandas/core/indexing.py:1420\u001b[39m, in \u001b[36m_LocIndexer._getitem_axis\u001b[39m\u001b[34m(self, key, axis)\u001b[39m\n\u001b[32m   1417\u001b[39m     \u001b[38;5;28;01mif\u001b[39;00m \u001b[38;5;28mhasattr\u001b[39m(key, \u001b[33m\"\u001b[39m\u001b[33mndim\u001b[39m\u001b[33m\"\u001b[39m) \u001b[38;5;129;01mand\u001b[39;00m key.ndim > \u001b[32m1\u001b[39m:\n\u001b[32m   1418\u001b[39m         \u001b[38;5;28;01mraise\u001b[39;00m \u001b[38;5;167;01mValueError\u001b[39;00m(\u001b[33m\"\u001b[39m\u001b[33mCannot index with multidimensional key\u001b[39m\u001b[33m\"\u001b[39m)\n\u001b[32m-> \u001b[39m\u001b[32m1420\u001b[39m     \u001b[38;5;28;01mreturn\u001b[39;00m \u001b[38;5;28;43mself\u001b[39;49m\u001b[43m.\u001b[49m\u001b[43m_getitem_iterable\u001b[49m\u001b[43m(\u001b[49m\u001b[43mkey\u001b[49m\u001b[43m,\u001b[49m\u001b[43m \u001b[49m\u001b[43maxis\u001b[49m\u001b[43m=\u001b[49m\u001b[43maxis\u001b[49m\u001b[43m)\u001b[49m\n\u001b[32m   1422\u001b[39m \u001b[38;5;66;03m# nested tuple slicing\u001b[39;00m\n\u001b[32m   1423\u001b[39m \u001b[38;5;28;01mif\u001b[39;00m is_nested_tuple(key, labels):\n",
      "\u001b[36mFile \u001b[39m\u001b[32m~/miniconda3/lib/python3.12/site-packages/pandas/core/indexing.py:1360\u001b[39m, in \u001b[36m_LocIndexer._getitem_iterable\u001b[39m\u001b[34m(self, key, axis)\u001b[39m\n\u001b[32m   1357\u001b[39m \u001b[38;5;28mself\u001b[39m._validate_key(key, axis)\n\u001b[32m   1359\u001b[39m \u001b[38;5;66;03m# A collection of keys\u001b[39;00m\n\u001b[32m-> \u001b[39m\u001b[32m1360\u001b[39m keyarr, indexer = \u001b[38;5;28;43mself\u001b[39;49m\u001b[43m.\u001b[49m\u001b[43m_get_listlike_indexer\u001b[49m\u001b[43m(\u001b[49m\u001b[43mkey\u001b[49m\u001b[43m,\u001b[49m\u001b[43m \u001b[49m\u001b[43maxis\u001b[49m\u001b[43m)\u001b[49m\n\u001b[32m   1361\u001b[39m \u001b[38;5;28;01mreturn\u001b[39;00m \u001b[38;5;28mself\u001b[39m.obj._reindex_with_indexers(\n\u001b[32m   1362\u001b[39m     {axis: [keyarr, indexer]}, copy=\u001b[38;5;28;01mTrue\u001b[39;00m, allow_dups=\u001b[38;5;28;01mTrue\u001b[39;00m\n\u001b[32m   1363\u001b[39m )\n",
      "\u001b[36mFile \u001b[39m\u001b[32m~/miniconda3/lib/python3.12/site-packages/pandas/core/indexing.py:1558\u001b[39m, in \u001b[36m_LocIndexer._get_listlike_indexer\u001b[39m\u001b[34m(self, key, axis)\u001b[39m\n\u001b[32m   1555\u001b[39m ax = \u001b[38;5;28mself\u001b[39m.obj._get_axis(axis)\n\u001b[32m   1556\u001b[39m axis_name = \u001b[38;5;28mself\u001b[39m.obj._get_axis_name(axis)\n\u001b[32m-> \u001b[39m\u001b[32m1558\u001b[39m keyarr, indexer = \u001b[43max\u001b[49m\u001b[43m.\u001b[49m\u001b[43m_get_indexer_strict\u001b[49m\u001b[43m(\u001b[49m\u001b[43mkey\u001b[49m\u001b[43m,\u001b[49m\u001b[43m \u001b[49m\u001b[43maxis_name\u001b[49m\u001b[43m)\u001b[49m\n\u001b[32m   1560\u001b[39m \u001b[38;5;28;01mreturn\u001b[39;00m keyarr, indexer\n",
      "\u001b[36mFile \u001b[39m\u001b[32m~/miniconda3/lib/python3.12/site-packages/pandas/core/indexes/base.py:6196\u001b[39m, in \u001b[36mIndex._get_indexer_strict\u001b[39m\u001b[34m(self, key, axis_name)\u001b[39m\n\u001b[32m   6194\u001b[39m \u001b[38;5;28;01mif\u001b[39;00m \u001b[38;5;28mself\u001b[39m._index_as_unique:\n\u001b[32m   6195\u001b[39m     indexer = \u001b[38;5;28mself\u001b[39m.get_indexer_for(keyarr)\n\u001b[32m-> \u001b[39m\u001b[32m6196\u001b[39m     keyarr = \u001b[38;5;28;43mself\u001b[39;49m\u001b[43m.\u001b[49m\u001b[43mreindex\u001b[49m\u001b[43m(\u001b[49m\u001b[43mkeyarr\u001b[49m\u001b[43m)\u001b[49m[\u001b[32m0\u001b[39m]\n\u001b[32m   6197\u001b[39m \u001b[38;5;28;01melse\u001b[39;00m:\n\u001b[32m   6198\u001b[39m     keyarr, indexer, new_indexer = \u001b[38;5;28mself\u001b[39m._reindex_non_unique(keyarr)\n",
      "\u001b[36mFile \u001b[39m\u001b[32m~/miniconda3/lib/python3.12/site-packages/pandas/core/indexes/base.py:4403\u001b[39m, in \u001b[36mIndex.reindex\u001b[39m\u001b[34m(self, target, method, level, limit, tolerance)\u001b[39m\n\u001b[32m   4401\u001b[39m     target = idx[:\u001b[32m0\u001b[39m]\n\u001b[32m   4402\u001b[39m \u001b[38;5;28;01melse\u001b[39;00m:\n\u001b[32m-> \u001b[39m\u001b[32m4403\u001b[39m     target = \u001b[43mensure_index\u001b[49m\u001b[43m(\u001b[49m\u001b[43mtarget\u001b[49m\u001b[43m)\u001b[49m\n\u001b[32m   4405\u001b[39m \u001b[38;5;28;01mif\u001b[39;00m level \u001b[38;5;129;01mis\u001b[39;00m \u001b[38;5;129;01mnot\u001b[39;00m \u001b[38;5;28;01mNone\u001b[39;00m \u001b[38;5;129;01mand\u001b[39;00m (\n\u001b[32m   4406\u001b[39m     \u001b[38;5;28misinstance\u001b[39m(\u001b[38;5;28mself\u001b[39m, ABCMultiIndex) \u001b[38;5;129;01mor\u001b[39;00m \u001b[38;5;28misinstance\u001b[39m(target, ABCMultiIndex)\n\u001b[32m   4407\u001b[39m ):\n\u001b[32m   4408\u001b[39m     \u001b[38;5;28;01mif\u001b[39;00m method \u001b[38;5;129;01mis\u001b[39;00m \u001b[38;5;129;01mnot\u001b[39;00m \u001b[38;5;28;01mNone\u001b[39;00m:\n",
      "\u001b[36mFile \u001b[39m\u001b[32m~/miniconda3/lib/python3.12/site-packages/pandas/core/indexes/base.py:7649\u001b[39m, in \u001b[36mensure_index\u001b[39m\u001b[34m(index_like, copy)\u001b[39m\n\u001b[32m   7647\u001b[39m         \u001b[38;5;28;01mreturn\u001b[39;00m Index(index_like, copy=copy, tupleize_cols=\u001b[38;5;28;01mFalse\u001b[39;00m)\n\u001b[32m   7648\u001b[39m \u001b[38;5;28;01melse\u001b[39;00m:\n\u001b[32m-> \u001b[39m\u001b[32m7649\u001b[39m     \u001b[38;5;28;01mreturn\u001b[39;00m \u001b[43mIndex\u001b[49m\u001b[43m(\u001b[49m\u001b[43mindex_like\u001b[49m\u001b[43m,\u001b[49m\u001b[43m \u001b[49m\u001b[43mcopy\u001b[49m\u001b[43m=\u001b[49m\u001b[43mcopy\u001b[49m\u001b[43m)\u001b[49m\n",
      "\u001b[36mFile \u001b[39m\u001b[32m~/miniconda3/lib/python3.12/site-packages/pandas/core/indexes/base.py:493\u001b[39m, in \u001b[36mIndex.__new__\u001b[39m\u001b[34m(cls, data, dtype, copy, name, tupleize_cols)\u001b[39m\n\u001b[32m    490\u001b[39m data_dtype = \u001b[38;5;28mgetattr\u001b[39m(data, \u001b[33m\"\u001b[39m\u001b[33mdtype\u001b[39m\u001b[33m\"\u001b[39m, \u001b[38;5;28;01mNone\u001b[39;00m)\n\u001b[32m    492\u001b[39m refs = \u001b[38;5;28;01mNone\u001b[39;00m\n\u001b[32m--> \u001b[39m\u001b[32m493\u001b[39m \u001b[38;5;28;01mif\u001b[39;00m \u001b[38;5;129;01mnot\u001b[39;00m copy \u001b[38;5;129;01mand\u001b[39;00m \u001b[38;5;28;43misinstance\u001b[39;49m\u001b[43m(\u001b[49m\u001b[43mdata\u001b[49m\u001b[43m,\u001b[49m\u001b[43m \u001b[49m\u001b[43m(\u001b[49m\u001b[43mABCSeries\u001b[49m\u001b[43m,\u001b[49m\u001b[43m \u001b[49m\u001b[43mIndex\u001b[49m\u001b[43m)\u001b[49m\u001b[43m)\u001b[49m:\n\u001b[32m    494\u001b[39m     refs = data._references\n\u001b[32m    496\u001b[39m is_pandas_object = \u001b[38;5;28misinstance\u001b[39m(data, (ABCSeries, Index, ExtensionArray))\n",
      "\u001b[36mFile \u001b[39m\u001b[32m~/miniconda3/lib/python3.12/site-packages/pandas/core/dtypes/generic.py:42\u001b[39m, in \u001b[36mcreate_pandas_abc_type.<locals>._instancecheck\u001b[39m\u001b[34m(cls, inst)\u001b[39m\n\u001b[32m     38\u001b[39m     \u001b[38;5;28;01mreturn\u001b[39;00m \u001b[38;5;28mgetattr\u001b[39m(inst, attr, \u001b[33m\"\u001b[39m\u001b[33m_typ\u001b[39m\u001b[33m\"\u001b[39m) \u001b[38;5;129;01min\u001b[39;00m comp\n\u001b[32m     40\u001b[39m \u001b[38;5;66;03m# https://github.com/python/mypy/issues/1006\u001b[39;00m\n\u001b[32m     41\u001b[39m \u001b[38;5;66;03m# error: 'classmethod' used with a non-method\u001b[39;00m\n\u001b[32m---> \u001b[39m\u001b[32m42\u001b[39m \u001b[38;5;129m@classmethod\u001b[39m  \u001b[38;5;66;03m# type: ignore[misc]\u001b[39;00m\n\u001b[32m     43\u001b[39m \u001b[38;5;28;01mdef\u001b[39;00m \u001b[34m_instancecheck\u001b[39m(\u001b[38;5;28mcls\u001b[39m, inst) -> \u001b[38;5;28mbool\u001b[39m:\n\u001b[32m     44\u001b[39m     \u001b[38;5;28;01mreturn\u001b[39;00m _check(inst) \u001b[38;5;129;01mand\u001b[39;00m \u001b[38;5;129;01mnot\u001b[39;00m \u001b[38;5;28misinstance\u001b[39m(inst, \u001b[38;5;28mtype\u001b[39m)\n\u001b[32m     46\u001b[39m \u001b[38;5;129m@classmethod\u001b[39m  \u001b[38;5;66;03m# type: ignore[misc]\u001b[39;00m\n\u001b[32m     47\u001b[39m \u001b[38;5;28;01mdef\u001b[39;00m \u001b[34m_subclasscheck\u001b[39m(\u001b[38;5;28mcls\u001b[39m, inst) -> \u001b[38;5;28mbool\u001b[39m:\n\u001b[32m     48\u001b[39m     \u001b[38;5;66;03m# Raise instead of returning False\u001b[39;00m\n\u001b[32m     49\u001b[39m     \u001b[38;5;66;03m# This is consistent with default __subclasscheck__ behavior\u001b[39;00m\n",
      "\u001b[31mKeyboardInterrupt\u001b[39m: "
     ]
    }
   ],
   "source": [
    "\n",
    "# 7) Sensibilidade ao m\n",
    "rows = []\n",
    "for m in MS:\n",
    "    tmp = apply_teda(df, m=m)\n",
    "    p_i, r_i, f1_i, _ = precision_recall_fscore_support(\n",
    "        tmp[\"anomaly\"].astype(int).values,\n",
    "        tmp[\"teda_outlier\"].astype(int).values,\n",
    "        average=\"binary\", zero_division=0\n",
    "    )\n",
    "    rows.append((m, p_i, r_i, f1_i))\n",
    "\n",
    "scores = pd.DataFrame(rows, columns=[\"m\",\"precision\",\"recall\",\"f1\"])\n",
    "print(\"Sensibilidade ao m:\\n\", scores)\n",
    "\n",
    "plt.figure(figsize=(7,4))\n",
    "plt.plot(scores[\"m\"], scores[\"precision\"], marker=\"o\", label=\"Precisão\")\n",
    "plt.plot(scores[\"m\"], scores[\"recall\"], marker=\"o\", label=\"Revocação\")\n",
    "plt.plot(scores[\"m\"], scores[\"f1\"], marker=\"o\", label=\"F1\")\n",
    "plt.xlabel(\"m (sensibilidade)\"); plt.ylabel(\"Score\")\n",
    "plt.title(f\"Sensibilidade do TEDA — Prédio {BUILDING_ID}\")\n",
    "plt.legend(); plt.tight_layout()\n",
    "# plt.savefig(f\"./sens_m_{BUILDING_ID}.png\", dpi=180); plt.close()\n",
    "# print(\"Figura salva:\", f\"./sens_m_{BUILDING_ID}.png\")\n",
    "plt.show()"
   ]
  },
  {
   "cell_type": "markdown",
   "id": "081d44f3",
   "metadata": {},
   "source": [
    "## 💾 Salvar resultados por amostra\n",
    "Inclui a coluna `teda_outlier` para análise posterior."
   ]
  },
  {
   "cell_type": "code",
   "execution_count": null,
   "id": "e41c2ab9",
   "metadata": {},
   "outputs": [],
   "source": [
    "\n",
    "# 9) Salvar CSV\n",
    "res.to_csv(f\"./teda_results_{BUILDING_ID}_{START[:10]}_{END[:10]}.csv\", index=False)\n",
    "print(\"CSV salvo:\", f\"./teda_results_{BUILDING_ID}_{START[:10]}_{END[:10]}.csv\")\n"
   ]
  },
  {
   "cell_type": "markdown",
   "id": "2aa3399b",
   "metadata": {},
   "source": [
    "---\n",
    "\n",
    "## 🔎 (Opcional) Descobrir automaticamente boas janelas para demonstração\n",
    "Encontra janelas de 3 dias com **anomalias e variação** (evita séries “retas”). Edite os limiares para refinar."
   ]
  },
  {
   "cell_type": "code",
   "execution_count": null,
   "id": "794a02fe",
   "metadata": {},
   "outputs": [
    {
     "name": "stdout",
     "output_type": "stream",
     "text": [
      "Top 10 janelas:\n"
     ]
    },
    {
     "data": {
      "text/html": [
       "<div>\n",
       "<style scoped>\n",
       "    .dataframe tbody tr th:only-of-type {\n",
       "        vertical-align: middle;\n",
       "    }\n",
       "\n",
       "    .dataframe tbody tr th {\n",
       "        vertical-align: top;\n",
       "    }\n",
       "\n",
       "    .dataframe thead th {\n",
       "        text-align: right;\n",
       "    }\n",
       "</style>\n",
       "<table border=\"1\" class=\"dataframe\">\n",
       "  <thead>\n",
       "    <tr style=\"text-align: right;\">\n",
       "      <th></th>\n",
       "      <th>building_id</th>\n",
       "      <th>start</th>\n",
       "      <th>end</th>\n",
       "      <th>n_points</th>\n",
       "      <th>anoms</th>\n",
       "      <th>cv</th>\n",
       "      <th>unique_ratio</th>\n",
       "    </tr>\n",
       "  </thead>\n",
       "  <tbody>\n",
       "    <tr>\n",
       "      <th>0</th>\n",
       "      <td>141</td>\n",
       "      <td>2016-12-27</td>\n",
       "      <td>2016-12-29 23:59:59</td>\n",
       "      <td>72</td>\n",
       "      <td>72</td>\n",
       "      <td>0.1428</td>\n",
       "      <td>0.514</td>\n",
       "    </tr>\n",
       "    <tr>\n",
       "      <th>1</th>\n",
       "      <td>190</td>\n",
       "      <td>2016-09-23</td>\n",
       "      <td>2016-09-25 23:59:59</td>\n",
       "      <td>72</td>\n",
       "      <td>72</td>\n",
       "      <td>0.0612</td>\n",
       "      <td>0.903</td>\n",
       "    </tr>\n",
       "    <tr>\n",
       "      <th>2</th>\n",
       "      <td>263</td>\n",
       "      <td>2016-01-16</td>\n",
       "      <td>2016-01-18 23:59:59</td>\n",
       "      <td>72</td>\n",
       "      <td>72</td>\n",
       "      <td>0.0366</td>\n",
       "      <td>0.944</td>\n",
       "    </tr>\n",
       "    <tr>\n",
       "      <th>3</th>\n",
       "      <td>254</td>\n",
       "      <td>2016-10-21</td>\n",
       "      <td>2016-10-23 23:59:59</td>\n",
       "      <td>72</td>\n",
       "      <td>69</td>\n",
       "      <td>1.3138</td>\n",
       "      <td>0.569</td>\n",
       "    </tr>\n",
       "    <tr>\n",
       "      <th>4</th>\n",
       "      <td>141</td>\n",
       "      <td>2016-12-28</td>\n",
       "      <td>2016-12-30 23:59:59</td>\n",
       "      <td>72</td>\n",
       "      <td>68</td>\n",
       "      <td>0.1427</td>\n",
       "      <td>0.583</td>\n",
       "    </tr>\n",
       "    <tr>\n",
       "      <th>5</th>\n",
       "      <td>653</td>\n",
       "      <td>2016-02-15</td>\n",
       "      <td>2016-02-17 23:59:59</td>\n",
       "      <td>72</td>\n",
       "      <td>68</td>\n",
       "      <td>0.1382</td>\n",
       "      <td>1.000</td>\n",
       "    </tr>\n",
       "    <tr>\n",
       "      <th>6</th>\n",
       "      <td>439</td>\n",
       "      <td>2016-12-24</td>\n",
       "      <td>2016-12-26 23:59:59</td>\n",
       "      <td>72</td>\n",
       "      <td>68</td>\n",
       "      <td>0.0591</td>\n",
       "      <td>1.000</td>\n",
       "    </tr>\n",
       "    <tr>\n",
       "      <th>7</th>\n",
       "      <td>1353</td>\n",
       "      <td>2016-11-23</td>\n",
       "      <td>2016-11-25 23:59:59</td>\n",
       "      <td>72</td>\n",
       "      <td>66</td>\n",
       "      <td>0.1898</td>\n",
       "      <td>0.639</td>\n",
       "    </tr>\n",
       "    <tr>\n",
       "      <th>8</th>\n",
       "      <td>1309</td>\n",
       "      <td>2016-07-17</td>\n",
       "      <td>2016-07-19 23:59:59</td>\n",
       "      <td>72</td>\n",
       "      <td>65</td>\n",
       "      <td>0.5202</td>\n",
       "      <td>0.222</td>\n",
       "    </tr>\n",
       "    <tr>\n",
       "      <th>9</th>\n",
       "      <td>190</td>\n",
       "      <td>2016-09-22</td>\n",
       "      <td>2016-09-24 23:59:59</td>\n",
       "      <td>72</td>\n",
       "      <td>65</td>\n",
       "      <td>0.3407</td>\n",
       "      <td>0.944</td>\n",
       "    </tr>\n",
       "  </tbody>\n",
       "</table>\n",
       "</div>"
      ],
      "text/plain": [
       "   building_id      start                 end  n_points  anoms      cv  \\\n",
       "0          141 2016-12-27 2016-12-29 23:59:59        72     72  0.1428   \n",
       "1          190 2016-09-23 2016-09-25 23:59:59        72     72  0.0612   \n",
       "2          263 2016-01-16 2016-01-18 23:59:59        72     72  0.0366   \n",
       "3          254 2016-10-21 2016-10-23 23:59:59        72     69  1.3138   \n",
       "4          141 2016-12-28 2016-12-30 23:59:59        72     68  0.1427   \n",
       "5          653 2016-02-15 2016-02-17 23:59:59        72     68  0.1382   \n",
       "6          439 2016-12-24 2016-12-26 23:59:59        72     68  0.0591   \n",
       "7         1353 2016-11-23 2016-11-25 23:59:59        72     66  0.1898   \n",
       "8         1309 2016-07-17 2016-07-19 23:59:59        72     65  0.5202   \n",
       "9          190 2016-09-22 2016-09-24 23:59:59        72     65  0.3407   \n",
       "\n",
       "   unique_ratio  \n",
       "0         0.514  \n",
       "1         0.903  \n",
       "2         0.944  \n",
       "3         0.569  \n",
       "4         0.583  \n",
       "5         1.000  \n",
       "6         1.000  \n",
       "7         0.639  \n",
       "8         0.222  \n",
       "9         0.944  "
      ]
     },
     "execution_count": 19,
     "metadata": {},
     "output_type": "execute_result"
    }
   ],
   "source": [
    "\n",
    "WINDOW_DAYS = 3\n",
    "MIN_ANOMS   = 3\n",
    "MIN_CV      = 0.02\n",
    "MIN_UNIQUE  = 0.15\n",
    "\n",
    "df_all = pd.read_csv(DATA_PATH)\n",
    "df_all[\"timestamp\"] = pd.to_datetime(df_all[\"timestamp\"])\n",
    "df_all = df_all.sort_values([\"building_id\",\"timestamp\"])\n",
    "\n",
    "def scan_building(df_b, window_days=WINDOW_DAYS):\n",
    "    out = []\n",
    "    days = pd.date_range(df_b[\"timestamp\"].min().normalize(),\n",
    "                         df_b[\"timestamp\"].max().normalize(), freq=\"D\")\n",
    "    for start in days:\n",
    "        end = start + pd.Timedelta(days=window_days) - pd.Timedelta(seconds=1)\n",
    "        sel = (df_b[\"timestamp\"] >= start) & (df_b[\"timestamp\"] <= end)\n",
    "        chunk = df_b.loc[sel].copy()\n",
    "        if len(chunk) < 24:\n",
    "            continue\n",
    "        chunk = chunk.set_index(\"timestamp\")\n",
    "        chunk[\"meter_reading\"] = chunk[\"meter_reading\"].interpolate(method=\"time\", limit_direction=\"both\")\n",
    "        chunk = chunk.reset_index()\n",
    "        vals = chunk[\"meter_reading\"].dropna().values\n",
    "        if len(vals) == 0:\n",
    "            continue\n",
    "        mean = float(np.mean(vals))\n",
    "        std  = float(np.std(vals))\n",
    "        cv   = (std/mean) if mean != 0 else (np.inf if std>0 else 0.0)\n",
    "        unique_ratio = pd.Series(vals).nunique() / len(vals)\n",
    "        anoms = int(chunk[\"anomaly\"].sum())\n",
    "        if (anoms >= MIN_ANOMS) and (cv >= MIN_CV) and (unique_ratio >= MIN_UNIQUE):\n",
    "            out.append({\n",
    "                \"building_id\": int(df_b[\"building_id\"].iloc[0]),\n",
    "                \"start\": start, \"end\": end,\n",
    "                \"n_points\": int(len(vals)),\n",
    "                \"anoms\": anoms,\n",
    "                \"cv\": round(cv, 4),\n",
    "                \"unique_ratio\": round(unique_ratio, 3)\n",
    "            })\n",
    "    return out\n",
    "\n",
    "anom_blds = df_all.loc[df_all[\"anomaly\"]==1, \"building_id\"].unique().tolist()\n",
    "cands = []\n",
    "for b in anom_blds:\n",
    "    cands.extend(scan_building(df_all[df_all[\"building_id\"]==b].copy()))\n",
    "\n",
    "cands = pd.DataFrame(cands).sort_values([\"anoms\",\"cv\",\"unique_ratio\"], ascending=[False, False, False]).reset_index(drop=True)\n",
    "print(\"Top 10 janelas:\")\n",
    "cands.head(10)\n"
   ]
  },
  {
   "cell_type": "markdown",
   "id": "fc8709dd",
   "metadata": {},
   "source": [
    "\n",
    "---\n",
    "\n",
    "# 🏃 Exercícios rápidos\n",
    "\n",
    "Use esta seção para praticar ajustes do TEDA, comparar prédios e investigar erros.  \n",
    "**Dica:** execute as células anteriores primeiro (até gerar `apply_teda`, `df`, `BUILDING_ID`, etc.).\n"
   ]
  },
  {
   "cell_type": "markdown",
   "id": "2b6514f2",
   "metadata": {},
   "source": [
    "\n",
    "## 1) Ajuste fino do `m` (sensibilidade)\n",
    "Altere `M_DEFAULT` e reavalie rapidamente as métricas para o mesmo prédio e janela.\n"
   ]
  },
  {
   "cell_type": "code",
   "execution_count": null,
   "id": "11c812fd",
   "metadata": {},
   "outputs": [
    {
     "name": "stdout",
     "output_type": "stream",
     "text": [
      "[m=0.08] Precisão=1.000 | Revocação=0.972 | F1=0.986\n"
     ]
    }
   ],
   "source": [
    "\n",
    "# TODO: ajuste aqui e rode\n",
    "M_TRY = 0.08  # experimente: 0.03, 0.05, 0.08, 0.12, ...\n",
    "\n",
    "res_try = apply_teda(df, m=M_TRY)\n",
    "y_true = res_try[\"anomaly\"].astype(int).values\n",
    "y_pred = res_try[\"teda_outlier\"].astype(int).values\n",
    "\n",
    "prec, rec, f1, _ = precision_recall_fscore_support(y_true, y_pred, average=\"binary\", zero_division=0)\n",
    "print(f\"[m={M_TRY}] Precisão={prec:.3f} | Revocação={rec:.3f} | F1={f1:.3f}\")\n"
   ]
  },
  {
   "cell_type": "markdown",
   "id": "bc7d4679",
   "metadata": {},
   "source": [
    "\n",
    "## 2) Busca de `m` ótimo por F1 (grid simples)\n",
    "Varra vários valores de `m` e escolha o melhor por F1 para **este prédio/janela**.\n"
   ]
  },
  {
   "cell_type": "code",
   "execution_count": null,
   "id": "99f3ef85",
   "metadata": {},
   "outputs": [
    {
     "data": {
      "text/html": [
       "<div>\n",
       "<style scoped>\n",
       "    .dataframe tbody tr th:only-of-type {\n",
       "        vertical-align: middle;\n",
       "    }\n",
       "\n",
       "    .dataframe tbody tr th {\n",
       "        vertical-align: top;\n",
       "    }\n",
       "\n",
       "    .dataframe thead th {\n",
       "        text-align: right;\n",
       "    }\n",
       "</style>\n",
       "<table border=\"1\" class=\"dataframe\">\n",
       "  <thead>\n",
       "    <tr style=\"text-align: right;\">\n",
       "      <th></th>\n",
       "      <th>m</th>\n",
       "      <th>precision</th>\n",
       "      <th>recall</th>\n",
       "      <th>f1</th>\n",
       "    </tr>\n",
       "  </thead>\n",
       "  <tbody>\n",
       "    <tr>\n",
       "      <th>0</th>\n",
       "      <td>0.020</td>\n",
       "      <td>1.0</td>\n",
       "      <td>0.972222</td>\n",
       "      <td>0.985915</td>\n",
       "    </tr>\n",
       "    <tr>\n",
       "      <th>1</th>\n",
       "      <td>0.035</td>\n",
       "      <td>1.0</td>\n",
       "      <td>0.972222</td>\n",
       "      <td>0.985915</td>\n",
       "    </tr>\n",
       "    <tr>\n",
       "      <th>2</th>\n",
       "      <td>0.050</td>\n",
       "      <td>1.0</td>\n",
       "      <td>0.972222</td>\n",
       "      <td>0.985915</td>\n",
       "    </tr>\n",
       "    <tr>\n",
       "      <th>3</th>\n",
       "      <td>0.065</td>\n",
       "      <td>1.0</td>\n",
       "      <td>0.972222</td>\n",
       "      <td>0.985915</td>\n",
       "    </tr>\n",
       "    <tr>\n",
       "      <th>4</th>\n",
       "      <td>0.080</td>\n",
       "      <td>1.0</td>\n",
       "      <td>0.972222</td>\n",
       "      <td>0.985915</td>\n",
       "    </tr>\n",
       "    <tr>\n",
       "      <th>5</th>\n",
       "      <td>0.095</td>\n",
       "      <td>1.0</td>\n",
       "      <td>0.972222</td>\n",
       "      <td>0.985915</td>\n",
       "    </tr>\n",
       "    <tr>\n",
       "      <th>6</th>\n",
       "      <td>0.110</td>\n",
       "      <td>1.0</td>\n",
       "      <td>0.958333</td>\n",
       "      <td>0.978723</td>\n",
       "    </tr>\n",
       "    <tr>\n",
       "      <th>7</th>\n",
       "      <td>0.125</td>\n",
       "      <td>1.0</td>\n",
       "      <td>0.944444</td>\n",
       "      <td>0.971429</td>\n",
       "    </tr>\n",
       "    <tr>\n",
       "      <th>8</th>\n",
       "      <td>0.140</td>\n",
       "      <td>1.0</td>\n",
       "      <td>0.944444</td>\n",
       "      <td>0.971429</td>\n",
       "    </tr>\n",
       "    <tr>\n",
       "      <th>9</th>\n",
       "      <td>0.155</td>\n",
       "      <td>1.0</td>\n",
       "      <td>0.944444</td>\n",
       "      <td>0.971429</td>\n",
       "    </tr>\n",
       "  </tbody>\n",
       "</table>\n",
       "</div>"
      ],
      "text/plain": [
       "       m  precision    recall        f1\n",
       "0  0.020        1.0  0.972222  0.985915\n",
       "1  0.035        1.0  0.972222  0.985915\n",
       "2  0.050        1.0  0.972222  0.985915\n",
       "3  0.065        1.0  0.972222  0.985915\n",
       "4  0.080        1.0  0.972222  0.985915\n",
       "5  0.095        1.0  0.972222  0.985915\n",
       "6  0.110        1.0  0.958333  0.978723\n",
       "7  0.125        1.0  0.944444  0.971429\n",
       "8  0.140        1.0  0.944444  0.971429\n",
       "9  0.155        1.0  0.944444  0.971429"
      ]
     },
     "execution_count": 17,
     "metadata": {},
     "output_type": "execute_result"
    }
   ],
   "source": [
    "\n",
    "m_grid = np.linspace(0.02, 0.20, 13)  # 0.02, 0.04, ..., 0.20\n",
    "rows = []\n",
    "for m in m_grid:\n",
    "    tmp = apply_teda(df, m=float(m))\n",
    "    p_i, r_i, f1_i, _ = precision_recall_fscore_support(\n",
    "        tmp[\"anomaly\"].astype(int).values,\n",
    "        tmp[\"teda_outlier\"].astype(int).values,\n",
    "        average=\"binary\",\n",
    "        zero_division=0\n",
    "    )\n",
    "    rows.append((float(m), p_i, r_i, f1_i))\n",
    "grid_scores = pd.DataFrame(rows, columns=[\"m\",\"precision\",\"recall\",\"f1\"]).sort_values(\"f1\", ascending=False)\n",
    "grid_scores.head(10)"
   ]
  },
  {
   "cell_type": "markdown",
   "id": "05985164",
   "metadata": {},
   "source": [
    "\n",
    "## 3) Comparar dois prédios\n",
    "Escolha um **segundo prédio** com a respectiva janela de tempo e compare métricas/curvas.\n"
   ]
  },
  {
   "cell_type": "markdown",
   "id": "c4abb9c0",
   "metadata": {},
   "source": [
    "| building_id | start       | end                  | n_points | anoms |    cv   | unique_ratio |\n",
    "|-------------|-------------|----------------------|----------|-------|---------|--------------|\n",
    "| 141         | 2016-12-27  | 2016-12-29 23:59:59   | 72       | 72    | 0.1428  | 0.514        |\n",
    "| 190         | 2016-09-23  | 2016-09-25 23:59:59   | 72       | 72    | 0.0612  | 0.903        |\n",
    "| 263         | 2016-01-16  | 2016-01-18 23:59:59   | 72       | 72    | 0.0366  | 0.944        |\n",
    "| 254         | 2016-10-21  | 2016-10-23 23:59:59   | 72       | 69    | 1.3138  | 0.569        |\n",
    "| 141         | 2016-12-28  | 2016-12-30 23:59:59   | 72       | 68    | 0.1427  | 0.583        |\n",
    "| 653         | 2016-02-15  | 2016-02-17 23:59:59   | 72       | 68    | 0.1382  | 1.000        |\n",
    "| 439         | 2016-12-24  | 2016-12-26 23:59:59   | 72       | 68    | 0.0591  | 1.000        |\n",
    "| 1353        | 2016-11-23  | 2016-11-25 23:59:59   | 72       | 66    | 0.1898  | 0.639        |\n",
    "| 1309        | 2016-07-17  | 2016-07-19 23:59:59   | 72       | 65    | 0.5202  | 0.222        |\n",
    "| 190         | 2016-09-22  | 2016-09-24 23:59:59   | 72       | 65    | 0.3407  | 0.944        |"
   ]
  },
  {
   "cell_type": "code",
   "execution_count": null,
   "id": "024f2732",
   "metadata": {},
   "outputs": [
    {
     "name": "stdout",
     "output_type": "stream",
     "text": [
      "Prédio 263:  P=1.000 R=0.944 F1=0.971\n",
      "Prédio 263: P=1.000 R=0.944 F1=0.971\n"
     ]
    }
   ],
   "source": [
    "\n",
    "# TODO: escolha um prédio 2 com anomalias na mesma janela START–END\n",
    "BUILDING_ID_2 = BUILDING_ID  # troque para outro ID (Vejam a tabela)\n",
    "START = START\n",
    "END = END\n",
    "\n",
    "# df = pd.read_csv(DATA_PATH)\n",
    "# df[\"timestamp\"] = pd.to_datetime(df[\"timestamp\"])\n",
    "\n",
    "# Filtrar o segundo prédio\n",
    "mask2 = (\n",
    "    (df1[\"building_id\"] == BUILDING_ID_2) &\n",
    "    (df1[\"timestamp\"] >= pd.to_datetime(START)) &\n",
    "    (df1[\"timestamp\"] <= pd.to_datetime(END))\n",
    ")\n",
    "df2 = df1.loc[mask2].copy().sort_values(\"timestamp\")\n",
    "df2 = df2.reset_index()\n",
    "\n",
    "# Rodar TEDA em ambos com o mesmo m\n",
    "res1 = apply_teda(df1,  m=M_DEFAULT)    # prédio 1 (já filtrado anteriormente)\n",
    "res2 = apply_teda(df2, m=M_DEFAULT)    # prédio 2\n",
    "\n",
    "def metrics_of(res):\n",
    "    y_true = res[\"anomaly\"].astype(int).values\n",
    "    y_pred = res[\"teda_outlier\"].astype(int).values\n",
    "    return precision_recall_fscore_support(y_true, y_pred, average=\"binary\", zero_division=0)[:3]\n",
    "\n",
    "p1, r1, f1 = metrics_of(res1)\n",
    "p2, r2, f2 = metrics_of(res2)\n",
    "\n",
    "print(f\"Prédio {BUILDING_ID}:  P={p1:.3f} R={r1:.3f} F1={f1:.3f}\")\n",
    "print(f\"Prédio {BUILDING_ID_2}: P={p2:.3f} R={r2:.3f} F1={f2:.3f}\")\n"
   ]
  },
  {
   "cell_type": "markdown",
   "id": "fbc73098",
   "metadata": {},
   "source": [
    "\n",
    "## 4) Investigue **FP** e **FN**\n",
    "Liste timestamps onde o TEDA aponta outlier mas o rótulo é 0 (FP) e onde o rótulo é 1 mas o TEDA não detecta (FN).\n"
   ]
  },
  {
   "cell_type": "code",
   "execution_count": null,
   "id": "8d0e7a1e",
   "metadata": {},
   "outputs": [
    {
     "name": "stdout",
     "output_type": "stream",
     "text": [
      "Falsos positivos (primeiros 10):\n"
     ]
    },
    {
     "data": {
      "text/html": [
       "<div>\n",
       "<style scoped>\n",
       "    .dataframe tbody tr th:only-of-type {\n",
       "        vertical-align: middle;\n",
       "    }\n",
       "\n",
       "    .dataframe tbody tr th {\n",
       "        vertical-align: top;\n",
       "    }\n",
       "\n",
       "    .dataframe thead th {\n",
       "        text-align: right;\n",
       "    }\n",
       "</style>\n",
       "<table border=\"1\" class=\"dataframe\">\n",
       "  <thead>\n",
       "    <tr style=\"text-align: right;\">\n",
       "      <th></th>\n",
       "      <th>timestamp</th>\n",
       "      <th>meter_reading</th>\n",
       "      <th>anomaly</th>\n",
       "      <th>teda_outlier</th>\n",
       "    </tr>\n",
       "  </thead>\n",
       "  <tbody>\n",
       "  </tbody>\n",
       "</table>\n",
       "</div>"
      ],
      "text/plain": [
       "Empty DataFrame\n",
       "Columns: [timestamp, meter_reading, anomaly, teda_outlier]\n",
       "Index: []"
      ]
     },
     "metadata": {},
     "output_type": "display_data"
    },
    {
     "name": "stdout",
     "output_type": "stream",
     "text": [
      "Falsos negativos (primeiros 10):\n"
     ]
    },
    {
     "data": {
      "text/html": [
       "<div>\n",
       "<style scoped>\n",
       "    .dataframe tbody tr th:only-of-type {\n",
       "        vertical-align: middle;\n",
       "    }\n",
       "\n",
       "    .dataframe tbody tr th {\n",
       "        vertical-align: top;\n",
       "    }\n",
       "\n",
       "    .dataframe thead th {\n",
       "        text-align: right;\n",
       "    }\n",
       "</style>\n",
       "<table border=\"1\" class=\"dataframe\">\n",
       "  <thead>\n",
       "    <tr style=\"text-align: right;\">\n",
       "      <th></th>\n",
       "      <th>timestamp</th>\n",
       "      <th>meter_reading</th>\n",
       "      <th>anomaly</th>\n",
       "      <th>teda_outlier</th>\n",
       "    </tr>\n",
       "  </thead>\n",
       "  <tbody>\n",
       "    <tr>\n",
       "      <th>0</th>\n",
       "      <td>2016-01-16 00:00:00</td>\n",
       "      <td>56.44</td>\n",
       "      <td>1</td>\n",
       "      <td>0</td>\n",
       "    </tr>\n",
       "    <tr>\n",
       "      <th>17</th>\n",
       "      <td>2016-01-16 17:00:00</td>\n",
       "      <td>52.70</td>\n",
       "      <td>1</td>\n",
       "      <td>0</td>\n",
       "    </tr>\n",
       "    <tr>\n",
       "      <th>40</th>\n",
       "      <td>2016-01-17 16:00:00</td>\n",
       "      <td>52.74</td>\n",
       "      <td>1</td>\n",
       "      <td>0</td>\n",
       "    </tr>\n",
       "    <tr>\n",
       "      <th>58</th>\n",
       "      <td>2016-01-18 10:00:00</td>\n",
       "      <td>53.56</td>\n",
       "      <td>1</td>\n",
       "      <td>0</td>\n",
       "    </tr>\n",
       "  </tbody>\n",
       "</table>\n",
       "</div>"
      ],
      "text/plain": [
       "             timestamp  meter_reading  anomaly  teda_outlier\n",
       "0  2016-01-16 00:00:00          56.44        1             0\n",
       "17 2016-01-16 17:00:00          52.70        1             0\n",
       "40 2016-01-17 16:00:00          52.74        1             0\n",
       "58 2016-01-18 10:00:00          53.56        1             0"
      ]
     },
     "metadata": {},
     "output_type": "display_data"
    }
   ],
   "source": [
    "\n",
    "res_dbg = res.copy()\n",
    "res_dbg[\"FP\"] = ((res_dbg[\"teda_outlier\"]==1) & (res_dbg[\"anomaly\"]==0)).astype(int)\n",
    "res_dbg[\"FN\"] = ((res_dbg[\"teda_outlier\"]==0) & (res_dbg[\"anomaly\"]==1)).astype(int)\n",
    "\n",
    "print(\"Falsos positivos (primeiros 10):\")\n",
    "display(res_dbg.loc[res_dbg[\"FP\"]==1, [\"timestamp\",\"meter_reading\",\"anomaly\",\"teda_outlier\"]].head(10))\n",
    "\n",
    "print(\"Falsos negativos (primeiros 10):\")\n",
    "display(res_dbg.loc[res_dbg[\"FN\"]==1, [\"timestamp\",\"meter_reading\",\"anomaly\",\"teda_outlier\"]].head(10))\n"
   ]
  },
  {
   "cell_type": "code",
   "execution_count": null,
   "id": "bbb0e563",
   "metadata": {},
   "outputs": [],
   "source": []
  }
 ],
 "metadata": {
  "kernelspec": {
   "display_name": "base",
   "language": "python",
   "name": "python3"
  },
  "language_info": {
   "codemirror_mode": {
    "name": "ipython",
    "version": 3
   },
   "file_extension": ".py",
   "mimetype": "text/x-python",
   "name": "python",
   "nbconvert_exporter": "python",
   "pygments_lexer": "ipython3",
   "version": "3.12.9"
  }
 },
 "nbformat": 4,
 "nbformat_minor": 5
}
